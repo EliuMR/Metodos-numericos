{
 "cells": [
  {
   "cell_type": "markdown",
   "metadata": {
    "collapsed": false
   },
   "source": [
    "Resolver:\n",
    "Dada la siguiente ecuación diferencial \n",
    "\n",
    "\n",
    "$\\frac{\\partial ²u}{\\partial x²}+\\frac{\\partial ²u}{\\partial y²}=x+y$   \n",
    "\n",
    "$ 0< x <1 $\n",
    "\n",
    "$ 0< y <1 $\n",
    "\n",
    "\n",
    "$u(x,0)=u(x,1)=\\frac{1}{6}x³\n",
    "$ 0<x<1$\n",
    "\n",
    "$ u(0,y)=0,u(1,y)=\\frac{y²}{6} $ \n",
    "$ 0<y<1 $\n"
   ]
  },
  {
   "cell_type": "code",
   "execution_count": 12,
   "metadata": {
    "collapsed": false
   },
   "outputs": [
   ],
   "source": [
    "#con condicones constates en lo bordes\n",
    "import numpy as np\n",
    "Ta=0; Tb=1/6; Tc=1/6; Td=1/6 #Bordes izq,der,abajo,arriba\n",
    "n=10                       #Puntos interiores en dirección hor(X)\n",
    "m=10                      #Puntos interiores en dirección ver (Y)\n",
    "miter=100                 #Max de iteraciones\n",
    "e=0.001             #Error de truncamiento relativo 0.1%\n",
    "dx=0.1\n",
    "dy=0.1\n",
    "u=zeros([n+2,m+2])\n",
    "for i in range(n+2):\n",
    "    u[i][0]=Tc*(dx*i)**3\n",
    "    u[i][m+1]=Td*(dx*i)**3\n",
    "for j in range(m+2):\n",
    "    u[0][j]=Ta\n",
    "    u[n+1][j]=Tb*(dy*j)**2\n",
    "p=0.25*(Ta+Tb+Tc+Td)           #valor inicial\n",
    "for i in range(1,n-1):\n",
    "    for j in range(1,m-1):\n",
    "        u[i][j]=p"
   ]
  },
  {
   "cell_type": "code",
   "execution_count": 15,
   "metadata": {
    "collapsed": false
   },
   "outputs": [
    {
     "name": "stdout",
     "output_type": "stream",
     "text": [
      "[0.0, 0.0, 0.0, 0.0, 0.0, 0.0, 0.0, 0.0, 0.0, 0.0, 0.0, 0.0]\n",
      "[0.0, -0.01, -0.01, -0.01, -0.02, -0.02, -0.02, -0.02, -0.02, -0.02, -0.01, 0.0]\n",
      "[0.0, -0.01, -0.02, -0.03, -0.03, -0.04, -0.04, -0.04, -0.04, -0.03, -0.02, 0.0]\n",
      "[0.0, -0.01, -0.02, -0.03, -0.04, -0.05, -0.05, -0.05, -0.05, -0.04, -0.02, 0.0]\n",
      "[0.01, -0.01, -0.02, -0.04, -0.05, -0.06, -0.06, -0.06, -0.05, -0.04, -0.02, 0.01]\n",
      "[0.02, -0.0, -0.02, -0.04, -0.05, -0.06, -0.06, -0.06, -0.05, -0.04, -0.01, 0.02]\n",
      "[0.04, 0.01, -0.01, -0.03, -0.05, -0.06, -0.06, -0.06, -0.04, -0.03, -0.0, 0.04]\n",
      "[0.06, 0.02, -0.01, -0.03, -0.04, -0.05, -0.05, -0.04, -0.03, -0.01, 0.02, 0.06]\n",
      "[0.09, 0.04, 0.01, -0.02, -0.03, -0.04, -0.03, -0.03, -0.01, 0.01, 0.04, 0.09]\n",
      "[0.12, 0.06, 0.02, -0.01, -0.02, -0.02, -0.01, -0.0, 0.02, 0.04, 0.08, 0.12]\n",
      "[0.17, 0.06, 0.02, 0.0, 0.0, 0.01, 0.02, 0.03, 0.06, 0.08, 0.12, 0.17]\n",
      "[0.0, 0.0, 0.01, 0.02, 0.03, 0.04, 0.06, 0.08, 0.11, 0.14, 0.17, 0.2]\n",
      "Conteo de iteraciones: 1\n"
     ]
    },
    {
     "data": {
      "image/png": "[encoded data removed]",
      "text/plain": [
       "<Figure size 864x504 with 1 Axes>"
      ]
     },
     "execution_count": 15,
     "metadata": {
      "image/png": {
       "height": 518,
       "width": 525
      },
      "needs_background": "light"
     },
     "output_type": "execute_result"
    }
   ],
   "source": [
    "k=0                             #conteo iteraciones\n",
    "converge=0                      #señal de convergencia\n",
    "while k<miter and converge==0:\n",
    "    k=k+1\n",
    "    t=u.copy()\n",
    "    for i in range(1,n+1):\n",
    "        for j in range(1,m+1):\n",
    "            u[i][j]=0.25*(u[i-1][j]+u[i+1][j]+u[i][j+1]+u[i][j-1]-(dx*i+dy*j)*dx**2)\n",
    "    if linalg.norm((u-t),np.inf)/linalg.norm(u,np.inf)<e:\n",
    "        converge=1\n",
    "if converge==1:\n",
    "    for i in range(n+2):       #Malla con la solución final\n",
    "        print([float('%5.2f'%(u[i][j]))for j in range(m+2)])\n",
    "    print('Conteo de iteraciones:',k) #Conteo de iteraciones\n",
    "    from pylab import*\n",
    "    from mpl_toolkits.mplot3d import Axes3D  #Grafico 3D\n",
    "    fig=figure()\n",
    "    ax=Axes3D(fig)\n",
    "    x=arange(0,1.2,dx)\n",
    "    y=arange(0,1.2,dy)\n",
    "    X,Y=meshgrid(x,y)\n",
    "    ax.plot_surface(X,Y,u,rstride=1,cstride=1,cmap='hot')\n",
    "    show()\n",
    "else:\n",
    "    print('No coverge')"
   ]
  },
  {
   "cell_type": "markdown",
   "metadata": {
    "collapsed": false
   },
   "source": [
    "###  Ecuaciones diferenciales parciales de tipo hiperbólico"
   ]
  },
  {
   "attachments": {
   },
   "cell_type": "markdown",
   "metadata": {
    "collapsed": false
   },
   "source": [
    "<img src=\"attachment:screenshot%202020-10-22%20at%205.47.39%20pm.png\" style=\"max-width:175%\">"
   ]
  },
  {
   "cell_type": "code",
   "execution_count": 17,
   "metadata": {
    "collapsed": false
   },
   "outputs": [
    {
     "name": "stdout",
     "output_type": "stream",
     "text": [
      "   1 [0.0, -0.05, -0.1, -0.15, -0.15, -0.15, -0.15, -0.15, -0.1, -0.05, 0.0]\n",
      "   2 [0.0, -0.05, -0.1, -0.1, -0.1, -0.1, -0.1, -0.1, -0.1, -0.05, 0.0]\n",
      "   3 [0.0, -0.05, -0.05, -0.05, -0.05, -0.05, -0.05, -0.05, -0.05, -0.05, 0.0]\n",
      "   4 [0.0, 0.0, -0.0, 0.0, -0.0, 0.0, 0.0, 0.0, 0.0, 0.0, 0.0]\n",
      "   5 [0.0, 0.05, 0.05, 0.05, 0.05, 0.05, 0.05, 0.05, 0.05, 0.05, 0.0]\n",
      "   6 [0.0, 0.05, 0.1, 0.1, 0.1, 0.1, 0.1, 0.1, 0.1, 0.05, 0.0]\n",
      "   7 [0.0, 0.05, 0.1, 0.15, 0.15, 0.15, 0.15, 0.15, 0.1, 0.05, 0.0]\n",
      "   8 [0.0, 0.05, 0.1, 0.15, 0.2, 0.2, 0.2, 0.15, 0.1, 0.05, 0.0]\n",
      "   9 [0.0, 0.05, 0.1, 0.15, 0.2, 0.25, 0.2, 0.15, 0.1, 0.05, 0.0]\n",
      "  10 [0.0, 0.05, 0.1, 0.15, 0.2, 0.2, 0.2, 0.15, 0.1, 0.05, 0.0]\n"
     ]
    },
    {
     "data": {
      "text/plain": [
       "[<matplotlib.lines.Line2D at 0x7f3bff8a0c70>]"
      ]
     },
     "execution_count": 17,
     "metadata": {
     },
     "output_type": "execute_result"
    },
    {
     "data": {
      "image/png": "[encoded data removed]",
      "text/plain": [
       "<Figure size 864x504 with 1 Axes>"
      ]
     },
     "execution_count": 17,
     "metadata": {
      "image/png": {
       "height": 411,
       "width": 719
      },
      "needs_background": "light"
     },
     "output_type": "execute_result"
    }
   ],
   "source": [
    "# MEtodo de diferencias finitas explícito EDP hoperbólica\n",
    "# FUNCIÓN DE ONDA 1 DIMENSIÓN\n",
    "from numpy import*\n",
    "from pylab import*\n",
    "m=11 #puntos en x\n",
    "n=10 #puntos en t\n",
    "c=2 #dato especificado\n",
    "L=1 #longitud\n",
    "dx=L/(m-1)\n",
    "dt=sqrt(dx**2/c**2)\n",
    "U0=zeros([m]) #Extremos fijos\n",
    "x=0\n",
    "for i in range(1,m-1): #nivel inicial\n",
    "    x=x+dx\n",
    "    if x<L/2:\n",
    "        U0[i]=-0.5*x #Ezpreción para desplazamiento\n",
    "    else:\n",
    "        U0[i]=0.5*(x-1)\n",
    "U1=[U0[0]] #primer nivel\n",
    "for i in range(1,m-1):\n",
    "    U1=U1+[0.5*(U0[i-1]+U0[i+1])]\n",
    "U1=U1+[U0[m-1]]\n",
    "\n",
    "for j in range(1,n+1):#siguientes nivels\n",
    "    Uj=[U1[0]]\n",
    "    for i in range(1,m-1):\n",
    "        Uj=Uj+[U1[i+1]+U1[i-1]-U0[i]]\n",
    "    Uj=Uj+[U1[m-1]]\n",
    "    U0=U1.copy()#actualizar niveles anteriores\n",
    "    U1=Uj.copy()\n",
    "    #mostrar solucion de cada nivel\n",
    "    print('%4d'%j,[float('%5.2f'%(Uj[j]))for j in range(m)])\n",
    "#mostar grafico de la solucion en el ultimo nivel\n",
    "x=[]\n",
    "for i in range(m):\n",
    "    x=x+[i*dx] #coordenadas para el gráfico\n",
    "grid()\n",
    "plot(x,Uj,'or')#graficar puntos y cuerda\n",
    "plot(x,Uj,'-r')"
   ]
  },
  {
   "cell_type": "code",
   "execution_count": 7,
   "metadata": {
    "collapsed": false
   },
   "outputs": [
    {
     "data": {
      "image/png": "[encoded data removed]",
      "text/plain": [
       "<Figure size 864x504 with 1 Axes>"
      ]
     },
     "execution_count": 7,
     "metadata": {
      "image/png": {
       "height": 411,
       "width": 715
      },
      "needs_background": "light"
     },
     "output_type": "execute_result"
    }
   ],
   "source": [
    "# MEtodo de diferencias finitas explícito EDP hoperbólica\n",
    "# FUNCIÓN DE ONDA 1 DIMENSIÓN\n",
    "from numpy import*\n",
    "import matplotlib.pyplot as plt\n",
    "m=100 #puntos en x\n",
    "n=100 #puntos en t\n",
    "c=2 #dato especificado\n",
    "L=1 #longitud\n",
    "dx=L/(m-1)\n",
    "dt=sqrt(dx**2/c**2)\n",
    "U0=zeros([m]) #Extremos fijos\n",
    "x=0\n",
    "for i in range(1,m-1): #nivel inicial\n",
    "    x=x+dx\n",
    "    if x<L/2:\n",
    "        U0[i]=-0.5*x #Ezpreción para desplazamiento\n",
    "    else:\n",
    "        U0[i]=0.5*(x-1)\n",
    "U1=[U0[0]] #primer nivel\n",
    "for i in range(1,m-1):\n",
    "    U1=U1+[0.5*(U0[i-1]+U0[i+1])]\n",
    "U1=U1+[U0[m-1]]\n",
    "x=[]\n",
    "for i in range(m):\n",
    "    x=x+[i*dx] #coordenadas para el gráfico\n",
    "\n",
    "for j in range(1,n+1):#siguientes nivels\n",
    "    Uj=[U1[0]]\n",
    "    for i in range(1,m-1):\n",
    "        Uj=Uj+[U1[i+1]+U1[i-1]-U0[i]]\n",
    "    Uj=Uj+[U1[m-1]]\n",
    "    U0=U1.copy()#actualizar niveles anteriores\n",
    "    U1=Uj.copy()\n",
    "    #mostrar solucion de cada nivel\n",
    "    #print('%4d'%j,[float('%5.2f'%(Uj[j]))for j in range(m)])\n",
    "#mostar grafico de la solucion en el ultimo nivel\n",
    "\n",
    "    if j%5==0:\n",
    "        plt.plot(x,Uj,'o')#graficar puntos y cuerda\n",
    "        plt.plot(x,Uj,'-')"
   ]
  },
  {
   "attachments": {
   },
   "cell_type": "markdown",
   "metadata": {
    "collapsed": false
   },
   "source": [
    "<img src=\"attachment:screenshot%202020-10-22%20at%206.28.51%20pm.png\" style=\"max-width:175%\">"
   ]
  },
  {
   "cell_type": "code",
   "execution_count": 9,
   "metadata": {
    "collapsed": false
   },
   "outputs": [
    {
     "data": {
      "image/png": "[encoded data removed]",
      "text/plain": [
       "<Figure size 864x504 with 1 Axes>"
      ]
     },
     "execution_count": 9,
     "metadata": {
      "image/png": {
       "height": 411,
       "width": 715
      },
      "needs_background": "light"
     },
     "output_type": "execute_result"
    }
   ],
   "source": [
    "# MEtodo de diferencias finitas explícito EDP hoperbólica\n",
    "# FUNCIÓN DE ONDA 1 DIMENSIÓN\n",
    "from numpy import*\n",
    "import matplotlib.pyplot as plt\n",
    "m=100 #puntos en x\n",
    "n=100 #puntos en t\n",
    "c=2 #dato especificado\n",
    "L=1 #longitud\n",
    "dx=L/(m-1)\n",
    "dt=sqrt(dx**2/c**2)\n",
    "U0=zeros([m]) #Extremos fijos\n",
    "x=0\n",
    "for i in range(1,m-1): #nivel inicial\n",
    "    x=x+dx\n",
    "    if x<L/4:\n",
    "        U0[i]=-x #Ezpreción para desplazamiento\n",
    "    else:\n",
    "        U0[i]=1/3*(x-1)\n",
    "U1=[U0[0]] #primer nivel\n",
    "for i in range(1,m-1):\n",
    "    U1=U1+[0.5*(U0[i-1]+U0[i+1])]\n",
    "U1=U1+[U0[m-1]]\n",
    "x=[]\n",
    "for i in range(m):\n",
    "    x=x+[i*dx] #coordenadas para el gráfico\n",
    "\n",
    "for j in range(1,n+1):#siguientes nivels\n",
    "    Uj=[U1[0]]\n",
    "    for i in range(1,m-1):\n",
    "        Uj=Uj+[U1[i+1]+U1[i-1]-U0[i]]\n",
    "    Uj=Uj+[U1[m-1]]\n",
    "    U0=U1.copy()#actualizar niveles anteriores\n",
    "    U1=Uj.copy()\n",
    "    #mostrar solucion de cada nivel\n",
    "    #print('%4d'%j,[float('%5.2f'%(Uj[j]))for j in range(m)])\n",
    "#mostar grafico de la solucion en el ultimo nivel\n",
    "\n",
    "    if j%10==0:\n",
    "        plt.plot(x,Uj,'o')#graficar puntos y cuerda\n",
    "        plt.plot(x,Uj,'-')"
   ]
  },
  {
   "cell_type": "code",
   "execution_count": 0,
   "metadata": {
    "collapsed": false
   },
   "outputs": [
   ],
   "source": [
   ]
  }
 ],
 "metadata": {
  "kernelspec": {
   "display_name": "Python 3 (system-wide)",
   "language": "python",
   "metadata": {
    "cocalc": {
     "description": "Python 3 programming language",
     "priority": 100,
     "url": "https://www.python.org/"
    }
   },
   "name": "python3",
   "resource_dir": "/ext/jupyter/kernels/python3"
  },
  "language_info": {
   "codemirror_mode": {
    "name": "ipython",
    "version": 3
   },
   "file_extension": ".py",
   "mimetype": "text/x-python",
   "name": "python",
   "nbconvert_exporter": "python",
   "pygments_lexer": "ipython3",
   "version": "3.8.5"
  }
 },
 "nbformat": 4,
 "nbformat_minor": 4
}