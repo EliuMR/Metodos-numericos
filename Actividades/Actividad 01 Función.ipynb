{
 "cells": [
  {
   "cell_type": "markdown",
   "metadata": {},
   "source": [
    "# Ejercicio 3_1\n",
    "## Eliú Moreno Ramírez\n",
    "La presión de vapor de un líquido puro, escrito $p^*$, es una función de la temperatura. Para calcular la presión de vapor a una temperatura dada, $T$, se es común usar la ecuación de Antoine: $$\\log_{10} p^*=A-\\frac{B}{T+C}$$ donde $A$, $B$ y $C$ son constantes que se pueden buscar para diferentes líquidos. Escriba una función que tenga $A$, $B$, $C$ y $T$ (en $°C$) como entradas y devuelva la presión de vapor, $p^*$."
   ]
  },
  {
   "cell_type": "code",
   "execution_count": 3,
   "metadata": {},
   "outputs": [],
   "source": [
    "import math"
   ]
  },
  {
   "cell_type": "code",
   "execution_count": 24,
   "metadata": {},
   "outputs": [],
   "source": [
    "def presion (A,B,C,T):\n",
    "    p=10**(A-B/(T+C))\n",
    "    print ('El valor de la presión p es:',p)"
   ]
  },
  {
   "cell_type": "code",
   "execution_count": 25,
   "metadata": {},
   "outputs": [
    {
     "name": "stdout",
     "output_type": "stream",
     "text": [
      "El valor de la presión p es: 86.59643233600653\n"
     ]
    }
   ],
   "source": [
    "presion(2,1,8,8)"
   ]
  },
  {
   "cell_type": "code",
   "execution_count": null,
   "metadata": {},
   "outputs": [],
   "source": []
  },
  {
   "cell_type": "code",
   "execution_count": null,
   "metadata": {},
   "outputs": [],
   "source": []
  }
 ],
 "metadata": {
  "kernelspec": {
   "display_name": "Python 3",
   "language": "python",
   "name": "python3"
  },
  "language_info": {
   "codemirror_mode": {
    "name": "ipython",
    "version": 3
   },
   "file_extension": ".py",
   "mimetype": "text/x-python",
   "name": "python",
   "nbconvert_exporter": "python",
   "pygments_lexer": "ipython3",
   "version": "3.6.9"
  }
 },
 "nbformat": 4,
 "nbformat_minor": 2
}
