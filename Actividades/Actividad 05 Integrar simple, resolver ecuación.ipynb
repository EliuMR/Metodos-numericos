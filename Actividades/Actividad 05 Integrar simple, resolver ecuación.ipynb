{
 "cells": [
  {
   "cell_type": "markdown",
   "metadata": {},
   "source": [
    "# Eliú Moreno Ramírez\n",
    "## Actividad 5.1, 5.2, 5.4"
   ]
  },
  {
   "cell_type": "markdown",
   "metadata": {},
   "source": [
    "### Actividad 5.1\n",
    "¡Ha sido contratado por la compañía de chips de montaña para analizar un nuevo producto que traen al mercado: chips cuadrados! El chip cuadrado tiene una forma similar al chip tradicional, pero su exterior (perímetro) es cuadrado, por lo que se ajusta a una caja cuadrada en lugar de una lata redonda. La compañía espera ahorrar millones en envases y envío más eficientes. La forma del chip cuadrado se describe por la función: $F (x,y)=\\frac{x^2}{1.0}-\\frac{y^2} {2.0}$, donde -1.0 ≤ $x $≤ 1.0 y -1.0 ≤ $y$ ≤ 1.0.\n",
    "Ha sido contratado como consultor para responder dos preguntas sobre el nuevo chip cuadrado de la compañía de chips de montaña. \n",
    "a) La compañía cree que el chip cuadrado es más probable que se rompa donde la curvatura es mayor, y les gustaría que determinara la (s) ubicación (s) con la mayor curvatura. La curvatura se aproxima por $C (x, y) = | \\frac{𝜕^2f }{𝜕x^2} | + | \\frac{𝜕^2f}{𝜕y^2}| $ . Determine la (s) ubicación (s) y la magnitud de la mayor curvatura. La compañía dejó muy claro que no confían en los cálculos humanos y requieren una respuesta desde la computadora utilizando el software de matemáticas simbólicas.\n",
    "b) En busca de una eficiencia de embalaje cada vez mayor, la compañía le preocupa el volumen de aire por debajo del chip más bajo en la pila de fichas en la caja. Debe determinar el volumen de aire debajo del chip (es decir, el volumen entre el chip y una superficie plana) integrando la función que describe la forma del chip sobre el dominio -1.0 ≤ $x $≤ 1.0 y -1.0 ≤ $y$ ≤ 1.0."
   ]
  },
  {
   "cell_type": "code",
   "execution_count": 1,
   "metadata": {
    "scrolled": true
   },
   "outputs": [
    {
     "name": "stdout",
     "output_type": "stream",
     "text": [
      "La longitud de máximo encurvamiento es:  3.00000000000000\n",
      "La posición de máximo encurvamiento es: [0.0] [0.0]\n",
      "El volumen que ocupa el aire entre la papa de hasta abajo y la superficie del embase es : 0.666666666666667\n"
     ]
    }
   ],
   "source": [
    "import sympy\n",
    "x = sympy.symbols('x')\n",
    "y=sympy.symbols('y')\n",
    "f = x**2/1.0-y**2/2.0\n",
    "dx=sympy.diff(f,x)\n",
    "dy=sympy.diff(f,y)\n",
    "xo=sympy.solve(dx,x)\n",
    "yo=sympy.solve(dy,y)\n",
    "dxx=sympy.diff(dx,x)\n",
    "dyy=sympy.diff(dy,y)\n",
    "if dxx<0:\n",
    "\tdxx=-dxx\n",
    "if dyy<0:\n",
    "\tdyy=-dyy\n",
    "c=dxx+dyy\n",
    "print('La longitud de máximo encurvamiento es: ',c)\n",
    "print('La posición de máximo encurvamiento es:',xo,yo)\n",
    "vo= sympy.integrate(f, (x, -1, 1))\n",
    "v=sympy.integrate(vo,(y,-1,1))\n",
    "print('El volumen que ocupa el aire entre la papa de hasta abajo y la superficie del embase es :',v)"
   ]
  },
  {
   "cell_type": "markdown",
   "metadata": {},
   "source": [
    "### Actividad 5.2\n",
    "Ha sido contratado por una compañía de productos químicos especializados que ha estado investigando las propiedades físicas de la acetona (un producto químico común para eliminar el esmalte de uñas). La compañía observó que a una temperatura desconocida, Acetone exhibió la misma capacidad de calor que el agua. La compañía encontró la siguiente ecuación cuadrática para la capacidad de calor de acetona en función de la temperatura [4]: $C_P = 26.63 + 0.183t - 45.86 × 10-6 T^2 \\frac{J}{(Mol ⋅ K)}$\n",
    "Ha sido contratado para determinar la temperatura a la que la acetona tiene la misma capacidad de calor que el agua (asume que el agua tiene una capacidad de calor constante de $75.6 \\frac{J }{mol ⋅ k}$ sobre una base por mol. Finalmente, la compañía tiene dos requisitos adicionales: (1) debe determinar una ecuación para el cambio en la capacidad de calor en función de la temperatura, es decir, $\\frac{dC_P}{dT} $y (2) trazar la capacidad de calor en función de la temperatura sobre el rango completo de temperaturas donde la capacidad de calor de acetona puede ser igual a la capacidad de la cabeza constante del agua. La compañía es notoriamente escéptica de las personas que realizan el análisis matemático \"a mano\" y lo que requiere que realice todos los cálculos utilizando el software de matemáticas simbólicas.\n"
   ]
  },
  {
   "cell_type": "code",
   "execution_count": 5,
   "metadata": {},
   "outputs": [
    {
     "name": "stdout",
     "output_type": "stream",
     "text": [
      "Las temperaturas en la que Cp del acetona es igual al del agua son  [288.445899151812, 3701.95968305490]\n",
      "La ecuación que relaciona la capacidad calorifica del acetona con la temperatura es dCp/dT= 0.183 - 9.172e-5*T\n"
     ]
    }
   ],
   "source": [
    "import sympy\n",
    "import numpy as np\n",
    "import matplotlib.pyplot as plt\n",
    "T = sympy.symbols('T')\n",
    "expr = -45.86*10**(-6)*T**2 + 0.183*T + 26.63-75.6\n",
    "\t\n",
    "A=sympy.solve(expr,'T')\n",
    "x=np.linspace(int(A[0]),int(A[1]),100)\n",
    "print ('Las temperaturas en la que Cp del acetona es igual al del agua son ', A)\n",
    "dC=sympy.diff(expr,'T')\n",
    "                \n",
    "print('La ecuación que relaciona la capacidad calorifica del acetona con la temperatura es dCp/dT=',dC)\n",
    "plt.plot(x,-45.86*10**(-6)*x**2 + 0.183*x+ 26.63,'.',label='Acetona')\n",
    "plt.plot(x,x-x+75.6,label='agua')\n",
    "plt.xlabel('Temperatura')\n",
    "plt.ylabel('J/mol K')\n",
    "plt.legend( )\n",
    "plt.show ( ) "
   ]
  },
  {
   "cell_type": "markdown",
   "metadata": {},
   "source": [
    "### Actividad 5.4\n",
    "¿Alguna vez has mirado ese pequeño agujero en la parte inferior de las ventanas en aviones comerciales y se preguntó: \"¿Por qué está ahí?\" (Respuesta: Buscar 'orificios en aviones Windows' en http://www.slate.com). Los aviones comerciales tienen tres capas para cada ventana: la capa interna para atrapar el moco de estornudos, una capa central que contiene el pequeño orificio en la parte inferior y una capa exterior. Resulta que el orificio en la capa central está diseñado para ser lo suficientemente grande como para evitar que la humedad se acumule entre las dos capas externas, al mismo tiempo que, al mismo tiempo, es lo suficientemente pequeña para evitar una pérdida total de la presión de la cabina en el caso de que la capa de la ventana exterior falla completamente. Ha sido contratado por un importante fabricante de aviones para estimar la caudal de aire a través del pequeño agujero en el caso de que la capa más exterior de vidrio falla. El fabricante debe asegurarse de que el sistema de presurización de la cabina de avión tenga la capacidad de prevenir la pérdida total de la presión de la cabina. El flujo a través del pequeño agujero cilíndrico debe estimarse al asumir el flujo de Poiseuille:\n",
    "$𝑣 = \\frac{ΔP}{4 ⋅ 𝜇 ⋅ L}(R^2 − r^2)$\n",
    "donde $ΔP = 60 kPa$ es la diferencia de presión entre el interior y el exterior del avión, $μ = 1.8 × 10-5 \\frac{kg }{ m ⋅ s}$ la viscosidad del aire, $L = 1,0 mm$ de la longitud del orificio cilíndrico y $r = 0$. La velocidad del aire a través del orificio,$ v$, es una función de la distancia,$ R$ desde el centro del agujero. Por lo tanto, la velocidad es máxima a lo largo del centro del orificio y disminuye más cerca de los bordes del agujero.\n",
    "En el borde del agujero, r = r y la velocidad es cero. El aire cerca del borde se reduce la fricción con el vaso de la ventana. La primera parte de su contrato con el fabricante de aviones es usar un software de matemáticas simbólico para obtener una ecuación para el flujo total a través del orificio, q, integrando la velocidad a través de la sección transversal del orificio:\n",
    "$Q = 2𝜋 ∫𝑣 ⋅ r ⋅ dr$ de 0 a $R$ Luego, determine la velocidad de flujo total en $\\frac {m^3}{s}$y $\\frac{m^3}{ H}$ utilizando las propiedades dadas anteriormente."
   ]
  },
  {
   "cell_type": "code",
   "execution_count": 4,
   "metadata": {},
   "outputs": [
    {
     "name": "stdout",
     "output_type": "stream",
     "text": [
      "La ecuación del flujo total a través del orificio es Q= P*r**2*(2*R**2 - r**2)/(16*L*m)\n",
      "El flujo de velocidad total es  13.0208333333333 m**3/s ó 46875.0000000000 m**3/h\n"
     ]
    }
   ],
   "source": [
    "import sympy\n",
    "r= sympy.symbols('r')\n",
    "P= sympy.symbols('P')\n",
    "m=sympy.symbols('m')\n",
    "R= sympy.symbols('R')\n",
    "L=sympy.symbols('L')\n",
    "Q= sympy.integrate(((P/(4*m*L))*(R**2-r**2))*r, (r, 0, r))\n",
    "Q=sympy.simplify(Q)\n",
    "print ('La ecuación del flujo total a través del orificio es Q=',Q)\n",
    "P=60\n",
    "m=1.8*10**(-5)\n",
    "l=1\n",
    "R=0.5\n",
    "Q = sympy.integrate(((P/(4*m*l))*(R**2-r**2))*r, (r, 0, R))\n",
    "Q=Q/1000\n",
    "print ('El flujo de velocidad total es ',Q,'m**3/s ó',3600*Q,'m**3/h')\n"
   ]
  }
 ],
 "metadata": {
  "kernelspec": {
   "display_name": "Python 3",
   "language": "python",
   "name": "python3"
  },
  "language_info": {
   "codemirror_mode": {
    "name": "ipython",
    "version": 3
   },
   "file_extension": ".py",
   "mimetype": "text/x-python",
   "name": "python",
   "nbconvert_exporter": "python",
   "pygments_lexer": "ipython3",
   "version": "3.8.3"
  }
 },
 "nbformat": 4,
 "nbformat_minor": 4
}
