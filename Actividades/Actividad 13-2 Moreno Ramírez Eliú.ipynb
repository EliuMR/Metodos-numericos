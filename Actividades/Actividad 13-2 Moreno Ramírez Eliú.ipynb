{
 "cells": [
  {
   "cell_type": "markdown",
   "metadata": {
    "collapsed": false
   },
   "source": [
    "## Eliú Moreno Ramírez"
   ]
  },
  {
   "cell_type": "markdown",
   "metadata": {
    "collapsed": false
   },
   "source": [
    "Ejercicio 2. En este ejercicio deberás programar un algoritmo encargado de construir un vector de n entradas aleatorias, y determinar si cada entrada es par e impar deberás imprimir un vector con los resultados 0 o 1 en cada entrada, 0 si la entrada del vector aleatorio es par y 1 si es impar."
   ]
  },
  {
   "cell_type": "code",
   "execution_count": 13,
   "metadata": {
    "cocalc": {
     "outputs": {
      "0": {
       "name": "input",
       "opts": {
        "password": false,
        "prompt": "Cuántos números aleatorios desea generar"
       },
       "output_type": "stream",
       "value": "25"
      }
     }
    },
    "collapsed": false
   },
   "outputs": [
    {
     "name": "stdout",
     "output_type": "stream",
     "text": "Cuántos números aleatorios desea generar 25"
    },
    {
     "name": "stdout",
     "output_type": "stream",
     "text": [
      "El array generado es  [  6 704 649 546 622 978 737 734 546 251 759 278 126 212 316 179 525 454\n",
      " 269  14  19  11  94 439 248]\n",
      "El array que indica 0 si es par y 1 es impar respectivamente en las posiciones del vector generado aleatoriamente [0. 0. 1. 0. 0. 0. 1. 0. 0. 1. 1. 0. 0. 0. 0. 1. 1. 0. 1. 0. 1. 1. 0. 1.\n",
      " 0.]\n"
     ]
    }
   ],
   "source": [
    "import numpy as np\n",
    "N=int(input('Cuántos números aleatorios desea generar'))\n",
    "a=np.random.randint(1,1000,N)\n",
    "b=np.zeros(N)\n",
    "for i in range(N):\n",
    "    if a[i]%2==0:\n",
    "        b[i]=0\n",
    "    else:\n",
    "        b[i]=1\n",
    "print('El array generado es ',a)\n",
    "print('El array que indica 0 si es par y 1 es impar respectivamente en las posiciones del vector generado aleatoriamente',b)"
   ]
  },
  {
   "cell_type": "code",
   "execution_count": 0,
   "metadata": {
    "collapsed": false
   },
   "outputs": [
   ],
   "source": [
   ]
  }
 ],
 "metadata": {
  "kernelspec": {
   "display_name": "Python 3 (system-wide)",
   "language": "python",
   "metadata": {
    "cocalc": {
     "description": "Python 3 programming language",
     "priority": 100,
     "url": "https://www.python.org/"
    }
   },
   "name": "python3"
  },
  "language_info": {
   "codemirror_mode": {
    "name": "ipython",
    "version": 3
   },
   "file_extension": ".py",
   "mimetype": "text/x-python",
   "name": "python",
   "nbconvert_exporter": "python",
   "pygments_lexer": "ipython3",
   "version": "3.8.2"
  }
 },
 "nbformat": 4,
 "nbformat_minor": 4
}